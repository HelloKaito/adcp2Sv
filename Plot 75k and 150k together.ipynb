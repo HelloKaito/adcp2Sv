{
 "cells": [
  {
   "cell_type": "code",
   "execution_count": 1,
   "metadata": {},
   "outputs": [],
   "source": [
    "import numpy as np\n",
    "import os, sys, glob, re\n",
    "import matplotlib.pyplot as plt\n",
    "from pycurrents.adcp.rdiraw import Multiread\n",
    "import jdcal, datetime\n",
    "import arlpy   # ARL underwater acoustics toolbox\n",
    "from mpl_toolkits.axes_grid1 import make_axes_locatable\n",
    "import adcp_func"
   ]
  },
  {
   "cell_type": "code",
   "execution_count": 2,
   "metadata": {},
   "outputs": [],
   "source": [
    "# Set up paths and params\n",
    "pname_75 = '/Volumes/wjlee_apl_2/2017_cruises/ADCP_RR1713/raw/os75/'\n",
    "pname_150 = '/Volumes/wjlee_apl_2/2017_cruises/ADCP_RR1713/raw/os150/'\n",
    "nf = 5   # load the latest 5 files\n",
    "fname_75 = glob.glob(pname_75+'*.raw')\n",
    "fname_150 = glob.glob(pname_150+'*.raw')"
   ]
  },
  {
   "cell_type": "code",
   "execution_count": 3,
   "metadata": {},
   "outputs": [
    {
     "name": "stdout",
     "output_type": "stream",
     "text": [
      "['/Volumes/wjlee_apl_2/2017_cruises/ADCP_RR1713/raw/os75/rr2017_218_14400.raw', '/Volumes/wjlee_apl_2/2017_cruises/ADCP_RR1713/raw/os75/rr2017_218_21600.raw', '/Volumes/wjlee_apl_2/2017_cruises/ADCP_RR1713/raw/os75/rr2017_218_28800.raw', '/Volumes/wjlee_apl_2/2017_cruises/ADCP_RR1713/raw/os75/rr2017_218_36000.raw', '/Volumes/wjlee_apl_2/2017_cruises/ADCP_RR1713/raw/os75/rr2017_218_43200.raw']\n",
      "[]\n"
     ]
    },
    {
     "ename": "IndexError",
     "evalue": "list index out of range",
     "output_type": "error",
     "traceback": [
      "\u001b[0;31m---------------------------------------------------------------------------\u001b[0m",
      "\u001b[0;31mIndexError\u001b[0m                                Traceback (most recent call last)",
      "\u001b[0;32m<ipython-input-3-9c786a4248d0>\u001b[0m in \u001b[0;36m<module>\u001b[0;34m()\u001b[0m\n\u001b[1;32m      1\u001b[0m \u001b[0mm_75\u001b[0m\u001b[0;34m,\u001b[0m\u001b[0mdata_75\u001b[0m\u001b[0;34m,\u001b[0m\u001b[0mparam_75\u001b[0m \u001b[0;34m=\u001b[0m \u001b[0madcp_func\u001b[0m\u001b[0;34m.\u001b[0m\u001b[0mload_raw_files\u001b[0m\u001b[0;34m(\u001b[0m\u001b[0mfname_75\u001b[0m\u001b[0;34m[\u001b[0m\u001b[0;34m-\u001b[0m\u001b[0mnf\u001b[0m\u001b[0;34m:\u001b[0m\u001b[0;34m]\u001b[0m\u001b[0;34m)\u001b[0m\u001b[0;34m\u001b[0m\u001b[0m\n\u001b[0;32m----> 2\u001b[0;31m \u001b[0mm_150\u001b[0m\u001b[0;34m,\u001b[0m\u001b[0mdata_150\u001b[0m\u001b[0;34m,\u001b[0m\u001b[0mparam_150\u001b[0m \u001b[0;34m=\u001b[0m \u001b[0madcp_func\u001b[0m\u001b[0;34m.\u001b[0m\u001b[0mload_raw_files\u001b[0m\u001b[0;34m(\u001b[0m\u001b[0mfname_150\u001b[0m\u001b[0;34m[\u001b[0m\u001b[0;34m-\u001b[0m\u001b[0mnf\u001b[0m\u001b[0;34m:\u001b[0m\u001b[0;36m0\u001b[0m\u001b[0;34m]\u001b[0m\u001b[0;34m)\u001b[0m\u001b[0;34m\u001b[0m\u001b[0m\n\u001b[0m",
      "\u001b[0;32m/Users/wujung/code/adcp2Sv/adcp_func.pyc\u001b[0m in \u001b[0;36mload_raw_files\u001b[0;34m(filename)\u001b[0m\n\u001b[1;32m     22\u001b[0m     '''\n\u001b[1;32m     23\u001b[0m     \u001b[0;32mprint\u001b[0m \u001b[0mfilename\u001b[0m  \u001b[0;31m# print files that are being loaded\u001b[0m\u001b[0;34m\u001b[0m\u001b[0m\n\u001b[0;32m---> 24\u001b[0;31m     \u001b[0mm\u001b[0m \u001b[0;34m=\u001b[0m \u001b[0mMultiread\u001b[0m\u001b[0;34m(\u001b[0m\u001b[0mfilename\u001b[0m\u001b[0;34m,\u001b[0m\u001b[0;34m'os'\u001b[0m\u001b[0;34m)\u001b[0m  \u001b[0;31m# read the latest nf files\u001b[0m\u001b[0;34m\u001b[0m\u001b[0m\n\u001b[0m\u001b[1;32m     25\u001b[0m     \u001b[0mdata\u001b[0m \u001b[0;34m=\u001b[0m \u001b[0mm\u001b[0m\u001b[0;34m.\u001b[0m\u001b[0mread\u001b[0m\u001b[0;34m(\u001b[0m\u001b[0;34m)\u001b[0m\u001b[0;34m\u001b[0m\u001b[0m\n\u001b[1;32m     26\u001b[0m \u001b[0;34m\u001b[0m\u001b[0m\n",
      "\u001b[0;32m/Users/wujung/anaconda/envs/py27/lib/python2.7/site-packages/pycurrents/adcp/rdiraw.pyc\u001b[0m in \u001b[0;36m__init__\u001b[0;34m(self, fnames, sonar, yearbase, alias, gap, min_nprofs, gbinsonar, ibad)\u001b[0m\n\u001b[1;32m   1718\u001b[0m             _log_fnames = [os.path.join(gbinsonar, \"time\", f + '.tim.gbin')\n\u001b[1;32m   1719\u001b[0m                             for f in self.base_fnames]\n\u001b[0;32m-> 1720\u001b[0;31m         \u001b[0;32mif\u001b[0m \u001b[0mos\u001b[0m\u001b[0;34m.\u001b[0m\u001b[0mpath\u001b[0m\u001b[0;34m.\u001b[0m\u001b[0mexists\u001b[0m\u001b[0;34m(\u001b[0m\u001b[0m_log_fnames\u001b[0m\u001b[0;34m[\u001b[0m\u001b[0;36m0\u001b[0m\u001b[0;34m]\u001b[0m\u001b[0;34m)\u001b[0m\u001b[0;34m:\u001b[0m\u001b[0;34m\u001b[0m\u001b[0m\n\u001b[0m\u001b[1;32m   1721\u001b[0m             \u001b[0mself\u001b[0m\u001b[0;34m.\u001b[0m\u001b[0mbs\u001b[0m \u001b[0;34m=\u001b[0m \u001b[0mBinfileSet\u001b[0m\u001b[0;34m(\u001b[0m\u001b[0m_log_fnames\u001b[0m\u001b[0;34m,\u001b[0m \u001b[0malias\u001b[0m\u001b[0;34m=\u001b[0m\u001b[0malias\u001b[0m\u001b[0;34m)\u001b[0m\u001b[0;34m\u001b[0m\u001b[0m\n\u001b[1;32m   1722\u001b[0m         \u001b[0;32melse\u001b[0m\u001b[0;34m:\u001b[0m\u001b[0;34m\u001b[0m\u001b[0m\n",
      "\u001b[0;31mIndexError\u001b[0m: list index out of range"
     ]
    }
   ],
   "source": [
    "m_75,data_75,param_75 = adcp_func.load_raw_files(fname_75[-nf:])\n",
    "m_150,data_150,param_150 = adcp_func.load_raw_files(fname_150[-nf:0])"
   ]
  },
  {
   "cell_type": "code",
   "execution_count": 5,
   "metadata": {},
   "outputs": [
    {
     "data": {
      "text/plain": [
       "['/Volumes/wjlee_apl_2/2017_cruises/ADCP_RR1713/raw/os75/rr2017_218_14400.raw',\n",
       " '/Volumes/wjlee_apl_2/2017_cruises/ADCP_RR1713/raw/os75/rr2017_218_21600.raw',\n",
       " '/Volumes/wjlee_apl_2/2017_cruises/ADCP_RR1713/raw/os75/rr2017_218_28800.raw',\n",
       " '/Volumes/wjlee_apl_2/2017_cruises/ADCP_RR1713/raw/os75/rr2017_218_36000.raw',\n",
       " '/Volumes/wjlee_apl_2/2017_cruises/ADCP_RR1713/raw/os75/rr2017_218_43200.raw']"
      ]
     },
     "execution_count": 5,
     "metadata": {},
     "output_type": "execute_result"
    }
   ],
   "source": [
    "fname_75[-nf:]"
   ]
  },
  {
   "cell_type": "code",
   "execution_count": 21,
   "metadata": {},
   "outputs": [],
   "source": [
    "tmp = os.path.basename(os.path.dirname(filename[0]))\n",
    "freq = int(re.split('os*',tmp)[1])*1000"
   ]
  },
  {
   "cell_type": "code",
   "execution_count": 22,
   "metadata": {},
   "outputs": [
    {
     "data": {
      "text/plain": [
       "75000"
      ]
     },
     "execution_count": 22,
     "metadata": {},
     "output_type": "execute_result"
    }
   ],
   "source": [
    "freq"
   ]
  },
  {
   "cell_type": "code",
   "execution_count": null,
   "metadata": {},
   "outputs": [],
   "source": []
  }
 ],
 "metadata": {
  "kernelspec": {
   "display_name": "Python [conda env:py27]",
   "language": "python",
   "name": "conda-env-py27-py"
  },
  "language_info": {
   "codemirror_mode": {
    "name": "ipython",
    "version": 2
   },
   "file_extension": ".py",
   "mimetype": "text/x-python",
   "name": "python",
   "nbconvert_exporter": "python",
   "pygments_lexer": "ipython2",
   "version": "2.7.12"
  }
 },
 "nbformat": 4,
 "nbformat_minor": 2
}
