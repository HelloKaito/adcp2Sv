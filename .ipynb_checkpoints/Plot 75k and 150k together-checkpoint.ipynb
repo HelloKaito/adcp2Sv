{
 "cells": [
  {
   "cell_type": "code",
   "execution_count": 23,
   "metadata": {},
   "outputs": [],
   "source": [
    "import numpy as np\n",
    "import os, sys, glob, re\n",
    "import matplotlib.pyplot as plt\n",
    "from pycurrents.adcp.rdiraw import Multiread\n",
    "import jdcal, datetime\n",
    "import arlpy   # ARL underwater acoustics toolbox\n",
    "from mpl_toolkits.axes_grid1 import make_axes_locatable\n",
    "import adcp_func\n",
    "\n",
    "# Set up paths and params\n",
    "pname_75 = '/Volumes/wjlee_apl_2/2017_cruises/ADCP_RR1713/raw/os75/'\n",
    "pname_150 = '/Volumes/wjlee_apl_2/2017_cruises/ADCP_RR1713/raw/os150/'\n",
    "nf = 5   # load the latest 5 files\n",
    "fname_75 = glob.glob(pname_75+'*.raw')\n",
    "fname_150 = glob.glob(pname_150+'*.raw')"
   ]
  },
  {
   "cell_type": "code",
   "execution_count": 24,
   "metadata": {},
   "outputs": [
    {
     "name": "stdout",
     "output_type": "stream",
     "text": [
      "['/Volumes/wjlee_apl_2/2017_cruises/ADCP_RR1713/raw/os75/rr2017_218_14400.raw', '/Volumes/wjlee_apl_2/2017_cruises/ADCP_RR1713/raw/os75/rr2017_218_21600.raw', '/Volumes/wjlee_apl_2/2017_cruises/ADCP_RR1713/raw/os75/rr2017_218_28800.raw', '/Volumes/wjlee_apl_2/2017_cruises/ADCP_RR1713/raw/os75/rr2017_218_36000.raw', '/Volumes/wjlee_apl_2/2017_cruises/ADCP_RR1713/raw/os75/rr2017_218_43200.raw']\n"
     ]
    },
    {
     "ename": "NameError",
     "evalue": "global name 'pname' is not defined",
     "output_type": "error",
     "traceback": [
      "\u001b[0;31m---------------------------------------------------------------------------\u001b[0m",
      "\u001b[0;31mNameError\u001b[0m                                 Traceback (most recent call last)",
      "\u001b[0;32m<ipython-input-24-1cf5048c1319>\u001b[0m in \u001b[0;36m<module>\u001b[0;34m()\u001b[0m\n\u001b[0;32m----> 1\u001b[0;31m \u001b[0mm_75\u001b[0m\u001b[0;34m,\u001b[0m\u001b[0mdata_75\u001b[0m\u001b[0;34m,\u001b[0m\u001b[0mparam_75\u001b[0m \u001b[0;34m=\u001b[0m \u001b[0madcp_func\u001b[0m\u001b[0;34m.\u001b[0m\u001b[0mload_raw_files\u001b[0m\u001b[0;34m(\u001b[0m\u001b[0mfname_75\u001b[0m\u001b[0;34m[\u001b[0m\u001b[0;34m-\u001b[0m\u001b[0mnf\u001b[0m\u001b[0;34m:\u001b[0m\u001b[0;34m]\u001b[0m\u001b[0;34m)\u001b[0m\u001b[0;34m\u001b[0m\u001b[0m\n\u001b[0m\u001b[1;32m      2\u001b[0m \u001b[0mm_150\u001b[0m\u001b[0;34m,\u001b[0m\u001b[0mdata_150\u001b[0m\u001b[0;34m,\u001b[0m\u001b[0mparam_150\u001b[0m \u001b[0;34m=\u001b[0m \u001b[0madcp_func\u001b[0m\u001b[0;34m.\u001b[0m\u001b[0mload_raw_files\u001b[0m\u001b[0;34m(\u001b[0m\u001b[0mfname_150\u001b[0m\u001b[0;34m[\u001b[0m\u001b[0;34m-\u001b[0m\u001b[0mnf\u001b[0m\u001b[0;34m:\u001b[0m\u001b[0;36m0\u001b[0m\u001b[0;34m]\u001b[0m\u001b[0;34m)\u001b[0m\u001b[0;34m\u001b[0m\u001b[0m\n\u001b[1;32m      3\u001b[0m \u001b[0;34m\u001b[0m\u001b[0m\n",
      "\u001b[0;32m/Users/wujung/code/adcp2Sv/adcp_func.py\u001b[0m in \u001b[0;36mload_raw_files\u001b[0;34m(filename)\u001b[0m\n\u001b[1;32m     27\u001b[0m     \u001b[0;31m# get attenuation and spreading loss\u001b[0m\u001b[0;34m\u001b[0m\u001b[0;34m\u001b[0m\u001b[0m\n\u001b[1;32m     28\u001b[0m     \u001b[0mr\u001b[0m \u001b[0;34m=\u001b[0m \u001b[0mdata\u001b[0m\u001b[0;34m.\u001b[0m\u001b[0mdep\u001b[0m\u001b[0;34m/\u001b[0m\u001b[0mnp\u001b[0m\u001b[0;34m.\u001b[0m\u001b[0mcos\u001b[0m\u001b[0;34m(\u001b[0m\u001b[0mm\u001b[0m\u001b[0;34m.\u001b[0m\u001b[0msysconfig\u001b[0m\u001b[0;34m[\u001b[0m\u001b[0;34m'angle'\u001b[0m\u001b[0;34m]\u001b[0m\u001b[0;34m*\u001b[0m\u001b[0mnp\u001b[0m\u001b[0;34m.\u001b[0m\u001b[0mpi\u001b[0m\u001b[0;34m/\u001b[0m\u001b[0;36m180\u001b[0m\u001b[0;34m)\u001b[0m  \u001b[0;31m# convert depth to range [m]\u001b[0m\u001b[0;34m\u001b[0m\u001b[0m\n\u001b[0;32m---> 29\u001b[0;31m     \u001b[0mtmp\u001b[0m \u001b[0;34m=\u001b[0m \u001b[0mos\u001b[0m\u001b[0;34m.\u001b[0m\u001b[0mpath\u001b[0m\u001b[0;34m.\u001b[0m\u001b[0mbasename\u001b[0m\u001b[0;34m(\u001b[0m\u001b[0mos\u001b[0m\u001b[0;34m.\u001b[0m\u001b[0mpath\u001b[0m\u001b[0;34m.\u001b[0m\u001b[0mdirname\u001b[0m\u001b[0;34m(\u001b[0m\u001b[0mfilename\u001b[0m\u001b[0;34m[\u001b[0m\u001b[0;36m0\u001b[0m\u001b[0;34m]\u001b[0m\u001b[0;34m)\u001b[0m\u001b[0;34m)\u001b[0m\u001b[0;34m\u001b[0m\u001b[0m\n\u001b[0m\u001b[1;32m     30\u001b[0m     \u001b[0mfreq\u001b[0m \u001b[0;34m=\u001b[0m \u001b[0mint\u001b[0m\u001b[0;34m(\u001b[0m\u001b[0mre\u001b[0m\u001b[0;34m.\u001b[0m\u001b[0msplit\u001b[0m\u001b[0;34m(\u001b[0m\u001b[0;34m'os*'\u001b[0m\u001b[0;34m,\u001b[0m\u001b[0mtmp\u001b[0m\u001b[0;34m)\u001b[0m\u001b[0;34m[\u001b[0m\u001b[0;36m1\u001b[0m\u001b[0;34m]\u001b[0m\u001b[0;34m)\u001b[0m\u001b[0;34m*\u001b[0m\u001b[0;36m1000\u001b[0m  \u001b[0;31m# get ADCP frequency [Hz]\u001b[0m\u001b[0;34m\u001b[0m\u001b[0m\n\u001b[1;32m     31\u001b[0m     \u001b[0malpha\u001b[0m \u001b[0;34m=\u001b[0m \u001b[0marlpy\u001b[0m\u001b[0;34m.\u001b[0m\u001b[0mutils\u001b[0m\u001b[0;34m.\u001b[0m\u001b[0mmag2db\u001b[0m\u001b[0;34m(\u001b[0m\u001b[0marlpy\u001b[0m\u001b[0;34m.\u001b[0m\u001b[0muwa\u001b[0m\u001b[0;34m.\u001b[0m\u001b[0mabsorption\u001b[0m\u001b[0;34m(\u001b[0m\u001b[0mfreq\u001b[0m\u001b[0;34m,\u001b[0m\u001b[0mdepth\u001b[0m\u001b[0;34m=\u001b[0m\u001b[0;36m100\u001b[0m\u001b[0;34m)\u001b[0m\u001b[0;34m)\u001b[0m  \u001b[0;31m# seawater absorption [dB/km]\u001b[0m\u001b[0;34m\u001b[0m\u001b[0m\n",
      "\u001b[0;31mNameError\u001b[0m: global name 'pname' is not defined"
     ]
    }
   ],
   "source": [
    "m_75,data_75,param_75 = adcp_func.load_raw_files(fname_75[-nf:])\n",
    "m_150,data_150,param_150 = adcp_func.load_raw_files(fname_150[-nf:0])\n",
    "\n"
   ]
  },
  {
   "cell_type": "code",
   "execution_count": 20,
   "metadata": {},
   "outputs": [],
   "source": [
    "filename=fname_75[-nf:]"
   ]
  },
  {
   "cell_type": "code",
   "execution_count": 21,
   "metadata": {},
   "outputs": [],
   "source": [
    "tmp = os.path.basename(os.path.dirname(filename[0]))\n",
    "freq = int(re.split('os*',tmp)[1])*1000"
   ]
  },
  {
   "cell_type": "code",
   "execution_count": 22,
   "metadata": {},
   "outputs": [
    {
     "data": {
      "text/plain": [
       "75000"
      ]
     },
     "execution_count": 22,
     "metadata": {},
     "output_type": "execute_result"
    }
   ],
   "source": [
    "freq"
   ]
  },
  {
   "cell_type": "code",
   "execution_count": null,
   "metadata": {},
   "outputs": [],
   "source": []
  }
 ],
 "metadata": {
  "kernelspec": {
   "display_name": "Python [conda env:py27]",
   "language": "python",
   "name": "conda-env-py27-py"
  },
  "language_info": {
   "codemirror_mode": {
    "name": "ipython",
    "version": 2
   },
   "file_extension": ".py",
   "mimetype": "text/x-python",
   "name": "python",
   "nbconvert_exporter": "python",
   "pygments_lexer": "ipython2",
   "version": "2.7.12"
  }
 },
 "nbformat": 4,
 "nbformat_minor": 2
}
